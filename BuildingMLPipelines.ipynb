{
 "cells": [
  {
   "cell_type": "markdown",
   "metadata": {},
   "source": [
    "# Building ML Pipelines\n",
    "In this project, I will be using a dataset  containing bone marrow transplantation characteristics for pediatric patients from UCI's Machine Learning Repository.\n",
    "\n",
    "I will this dataset to build a pipeline, containing all preprocessing and data cleaning steps, and then selecting the best classifier to predict patient survival."
   ]
  },
  {
   "cell_type": "markdown",
   "metadata": {},
   "source": [
    "### About data set\n",
    "* donor_age - Age of the donor at the time of hematopoietic stem cells apheresis\n",
    "\n",
    "* donor_age_below_35 - Is donor age less than 35 (yes, no)\n",
    "\n",
    "* donor_ABO - ABO blood group of the donor of hematopoietic stem cells (0, A, B, AB)\n",
    "\n",
    "* donor_CMV - Presence of cytomegalovirus infection in the donor of hematopoietic stem cells prior to transplantation (present, absent)\n",
    "\n",
    "* recipient_age - Age of the recipient of hematopoietic stem cells at the time of transplantation\n",
    "\n",
    "* recipient_age_below_10 - Is recipient age below 10 (yes, no)\n",
    "\n",
    "* recipient_age_int - Age of the recipient discretized to intervals (0,5], (5, 10], (10, 20]\n",
    "\n",
    "* recipient_gender - Gender of the recipient (female, male)\n",
    "\n",
    "* recipient_body_mass - Body mass of the recipient of hematopoietic stem cells at the time of the transplantation\n",
    "* …\n",
    "* survival_status - Survival status (0 - alive, 1 - dead)"
   ]
  },
  {
   "cell_type": "markdown",
   "metadata": {},
   "source": [
    "### Import nessary libraries"
   ]
  },
  {
   "cell_type": "code",
   "execution_count": 3,
   "metadata": {},
   "outputs": [],
   "source": [
    "import numpy as np\n",
    "import pandas as pd\n",
    "\n",
    "from sklearn.pipeline import Pipeline\n",
    "from sklearn.model_selection import train_test_split, GridSearchCV\n",
    "from sklearn.preprocessing import StandardScaler, OneHotEncoder\n",
    "from sklearn.compose import ColumnTransformer\n",
    "from sklearn.impute import SimpleImputer\n",
    "from sklearn.decomposition import PCA\n",
    "from sklearn.linear_model import LinearRegression\n",
    "\n",
    "from scipy.io import arff"
   ]
  },
  {
   "cell_type": "markdown",
   "metadata": {},
   "source": [
    "### Load the data set as a dataframe"
   ]
  },
  {
   "cell_type": "code",
   "execution_count": 4,
   "metadata": {},
   "outputs": [],
   "source": [
    "data = arff.loadarff('bone-marrow.arff')\n",
    "df = pd.DataFrame(data[0])\n",
    "df.drop(columns=['Disease'], inplace=True)"
   ]
  }
 ],
 "metadata": {
  "kernelspec": {
   "display_name": "Python 3",
   "language": "python",
   "name": "python3"
  },
  "language_info": {
   "codemirror_mode": {
    "name": "ipython",
    "version": 3
   },
   "file_extension": ".py",
   "mimetype": "text/x-python",
   "name": "python",
   "nbconvert_exporter": "python",
   "pygments_lexer": "ipython3",
   "version": "3.11.5"
  }
 },
 "nbformat": 4,
 "nbformat_minor": 2
}
