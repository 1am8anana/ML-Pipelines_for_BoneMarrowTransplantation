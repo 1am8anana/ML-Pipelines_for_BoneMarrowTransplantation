{
 "cells": [
  {
   "cell_type": "markdown",
   "metadata": {},
   "source": [
    "# Building ML Pipelines\n",
    "In this project, I will be using a dataset  containing bone marrow transplantation characteristics for pediatric patients from UCI's Machine Learning Repository.\n",
    "\n",
    "I will this dataset to build a pipeline, containing all preprocessing and data cleaning steps, and then selecting the best classifier to predict patient survival."
   ]
  },
  {
   "cell_type": "markdown",
   "metadata": {},
   "source": [
    "### About data set\n",
    "* donor_age - Age of the donor at the time of hematopoietic stem cells apheresis\n",
    "\n",
    "* donor_age_below_35 - Is donor age less than 35 (yes, no)\n",
    "\n",
    "* donor_ABO - ABO blood group of the donor of hematopoietic stem cells (0, A, B, AB)\n",
    "\n",
    "* donor_CMV - Presence of cytomegalovirus infection in the donor of hematopoietic stem cells prior to transplantation (present, absent)\n",
    "\n",
    "* recipient_age - Age of the recipient of hematopoietic stem cells at the time of transplantation\n",
    "\n",
    "* recipient_age_below_10 - Is recipient age below 10 (yes, no)\n",
    "\n",
    "* recipient_age_int - Age of the recipient discretized to intervals (0,5], (5, 10], (10, 20]\n",
    "\n",
    "* recipient_gender - Gender of the recipient (female, male)\n",
    "\n",
    "* recipient_body_mass - Body mass of the recipient of hematopoietic stem cells at the time of the transplantation\n",
    "* …\n",
    "* survival_status - Survival status (0 - alive, 1 - dead)"
   ]
  },
  {
   "cell_type": "markdown",
   "metadata": {},
   "source": [
    "### Import nessary libraries"
   ]
  },
  {
   "cell_type": "code",
   "execution_count": 3,
   "metadata": {},
   "outputs": [],
   "source": [
    "import numpy as np\n",
    "import pandas as pd\n",
    "\n",
    "from sklearn.pipeline import Pipeline\n",
    "from sklearn.model_selection import train_test_split, GridSearchCV\n",
    "from sklearn.preprocessing import StandardScaler, OneHotEncoder\n",
    "from sklearn.compose import ColumnTransformer\n",
    "from sklearn.impute import SimpleImputer\n",
    "from sklearn.decomposition import PCA\n",
    "from sklearn.linear_model import LinearRegression\n",
    "\n",
    "from scipy.io import arff"
   ]
  },
  {
   "cell_type": "markdown",
   "metadata": {},
   "source": [
    "### Load the data set as a dataframe"
   ]
  },
  {
   "cell_type": "code",
   "execution_count": 4,
   "metadata": {},
   "outputs": [],
   "source": [
    "data = arff.loadarff('bone-marrow.arff')\n",
    "df = pd.DataFrame(data[0])\n",
    "df.drop(columns=['Disease'], inplace=True)"
   ]
  },
  {
   "cell_type": "markdown",
   "metadata": {},
   "source": [
    "### Prepare the data"
   ]
  },
  {
   "cell_type": "code",
   "execution_count": 5,
   "metadata": {},
   "outputs": [
    {
     "name": "stdout",
     "output_type": "stream",
     "text": [
      "Count of unique values in each column:\n",
      "Recipientgender           2\n",
      "Stemcellsource            2\n",
      "Donorage                187\n",
      "Donorage35                2\n",
      "IIIV                      2\n",
      "Gendermatch               2\n",
      "DonorABO                  4\n",
      "RecipientABO              4\n",
      "RecipientRh               2\n",
      "ABOmatch                  2\n",
      "CMVstatus                 4\n",
      "DonorCMV                  2\n",
      "RecipientCMV              2\n",
      "Riskgroup                 2\n",
      "Txpostrelapse             2\n",
      "Diseasegroup              2\n",
      "HLAmatch                  4\n",
      "HLAmismatch               2\n",
      "Antigen                   4\n",
      "Alel                      5\n",
      "HLAgrI                    7\n",
      "Recipientage            125\n",
      "Recipientage10            2\n",
      "Recipientageint           3\n",
      "Relapse                   2\n",
      "aGvHDIIIIV                2\n",
      "extcGvHD                  2\n",
      "CD34kgx10d6             183\n",
      "CD3dCD34                182\n",
      "CD3dkgx10d8             163\n",
      "Rbodymass               130\n",
      "ANCrecovery              18\n",
      "PLTrecovery              50\n",
      "time_to_aGvHD_III_IV     28\n",
      "survival_time           174\n",
      "survival_status           2\n",
      "dtype: int64\n"
     ]
    }
   ],
   "source": [
    "# Convert all columns to numeric, coerce errors to null values\n",
    "for c in df.columns:\n",
    "    df[c] = pd.to_numeric(df[c], errors='coerce')\n",
    "\n",
    "# Make sure binary columns are encoded as 0 and 1\n",
    "for c in df.columns[df.nunique()==2]:\n",
    "    df[c] = (df[c]==1)*1.0\n",
    "\n",
    "# Calculate the number of unique values for each column\n",
    "print('Count of unique values in each column:')\n",
    "print(df.nunique())"
   ]
  },
  {
   "cell_type": "code",
   "execution_count": 6,
   "metadata": {},
   "outputs": [],
   "source": [
    "# Set target, survival_status as y; features as X\n",
    "X = df.drop(columns=['survival_time', 'survival_status'])\n",
    "y = df.survival_status"
   ]
  },
  {
   "cell_type": "code",
   "execution_count": 7,
   "metadata": {},
   "outputs": [
    {
     "name": "stdout",
     "output_type": "stream",
     "text": [
      "Columns with missing values:\n",
      "Index(['RecipientABO', 'CMVstatus', 'Antigen', 'Alel', 'CD3dCD34',\n",
      "       'CD3dkgx10d8', 'Rbodymass'],\n",
      "      dtype='object')\n"
     ]
    }
   ],
   "source": [
    "# Define list of numeric and categorical columns based on number of unique values\n",
    "num_cols = X.columns[X.nunique()>7]\n",
    "cat_cols = X.columns[X.nunique()<=7]\n",
    "# Print columns wit hmissing values\n",
    "print('Columns with missing values:')\n",
    "print(X.columns[X.isnull().sum()>0])"
   ]
  },
  {
   "cell_type": "code",
   "execution_count": 8,
   "metadata": {},
   "outputs": [],
   "source": [
    "# Split data into train/test set\n",
    "x_train, x_test, y_train, y_test = train_test_split(X, y, test_size=0.2, random_state=0)"
   ]
  },
  {
   "cell_type": "code",
   "execution_count": 9,
   "metadata": {},
   "outputs": [
    {
     "data": {
      "text/html": [
       "<div>\n",
       "<style scoped>\n",
       "    .dataframe tbody tr th:only-of-type {\n",
       "        vertical-align: middle;\n",
       "    }\n",
       "\n",
       "    .dataframe tbody tr th {\n",
       "        vertical-align: top;\n",
       "    }\n",
       "\n",
       "    .dataframe thead th {\n",
       "        text-align: right;\n",
       "    }\n",
       "</style>\n",
       "<table border=\"1\" class=\"dataframe\">\n",
       "  <thead>\n",
       "    <tr style=\"text-align: right;\">\n",
       "      <th></th>\n",
       "      <th>Recipientgender</th>\n",
       "      <th>Stemcellsource</th>\n",
       "      <th>Donorage</th>\n",
       "      <th>Donorage35</th>\n",
       "      <th>IIIV</th>\n",
       "      <th>Gendermatch</th>\n",
       "      <th>DonorABO</th>\n",
       "      <th>RecipientABO</th>\n",
       "      <th>RecipientRh</th>\n",
       "      <th>ABOmatch</th>\n",
       "      <th>...</th>\n",
       "      <th>Relapse</th>\n",
       "      <th>aGvHDIIIIV</th>\n",
       "      <th>extcGvHD</th>\n",
       "      <th>CD34kgx10d6</th>\n",
       "      <th>CD3dCD34</th>\n",
       "      <th>CD3dkgx10d8</th>\n",
       "      <th>Rbodymass</th>\n",
       "      <th>ANCrecovery</th>\n",
       "      <th>PLTrecovery</th>\n",
       "      <th>time_to_aGvHD_III_IV</th>\n",
       "    </tr>\n",
       "  </thead>\n",
       "  <tbody>\n",
       "    <tr>\n",
       "      <th>144</th>\n",
       "      <td>1.0</td>\n",
       "      <td>0.0</td>\n",
       "      <td>30.279452</td>\n",
       "      <td>0.0</td>\n",
       "      <td>0.0</td>\n",
       "      <td>0.0</td>\n",
       "      <td>1</td>\n",
       "      <td>0.0</td>\n",
       "      <td>0.0</td>\n",
       "      <td>1.0</td>\n",
       "      <td>...</td>\n",
       "      <td>1.0</td>\n",
       "      <td>1.0</td>\n",
       "      <td>1.0</td>\n",
       "      <td>10.96</td>\n",
       "      <td>10.611083</td>\n",
       "      <td>1.03</td>\n",
       "      <td>14.8</td>\n",
       "      <td>15.0</td>\n",
       "      <td>19.0</td>\n",
       "      <td>1000000.0</td>\n",
       "    </tr>\n",
       "    <tr>\n",
       "      <th>8</th>\n",
       "      <td>1.0</td>\n",
       "      <td>1.0</td>\n",
       "      <td>32.641096</td>\n",
       "      <td>0.0</td>\n",
       "      <td>0.0</td>\n",
       "      <td>0.0</td>\n",
       "      <td>2</td>\n",
       "      <td>0.0</td>\n",
       "      <td>1.0</td>\n",
       "      <td>1.0</td>\n",
       "      <td>...</td>\n",
       "      <td>0.0</td>\n",
       "      <td>1.0</td>\n",
       "      <td>1.0</td>\n",
       "      <td>23.54</td>\n",
       "      <td>3.772555</td>\n",
       "      <td>6.24</td>\n",
       "      <td>20.5</td>\n",
       "      <td>15.0</td>\n",
       "      <td>14.0</td>\n",
       "      <td>1000000.0</td>\n",
       "    </tr>\n",
       "    <tr>\n",
       "      <th>150</th>\n",
       "      <td>1.0</td>\n",
       "      <td>0.0</td>\n",
       "      <td>23.095890</td>\n",
       "      <td>0.0</td>\n",
       "      <td>0.0</td>\n",
       "      <td>1.0</td>\n",
       "      <td>2</td>\n",
       "      <td>1.0</td>\n",
       "      <td>1.0</td>\n",
       "      <td>1.0</td>\n",
       "      <td>...</td>\n",
       "      <td>1.0</td>\n",
       "      <td>1.0</td>\n",
       "      <td>0.0</td>\n",
       "      <td>1.88</td>\n",
       "      <td>7.910679</td>\n",
       "      <td>0.24</td>\n",
       "      <td>62.0</td>\n",
       "      <td>23.0</td>\n",
       "      <td>1000000.0</td>\n",
       "      <td>1000000.0</td>\n",
       "    </tr>\n",
       "    <tr>\n",
       "      <th>89</th>\n",
       "      <td>0.0</td>\n",
       "      <td>0.0</td>\n",
       "      <td>28.276712</td>\n",
       "      <td>0.0</td>\n",
       "      <td>1.0</td>\n",
       "      <td>0.0</td>\n",
       "      <td>-1</td>\n",
       "      <td>1.0</td>\n",
       "      <td>1.0</td>\n",
       "      <td>1.0</td>\n",
       "      <td>...</td>\n",
       "      <td>0.0</td>\n",
       "      <td>1.0</td>\n",
       "      <td>1.0</td>\n",
       "      <td>1.31</td>\n",
       "      <td>14.642869</td>\n",
       "      <td>0.09</td>\n",
       "      <td>72.5</td>\n",
       "      <td>21.0</td>\n",
       "      <td>1000000.0</td>\n",
       "      <td>1000000.0</td>\n",
       "    </tr>\n",
       "    <tr>\n",
       "      <th>177</th>\n",
       "      <td>0.0</td>\n",
       "      <td>1.0</td>\n",
       "      <td>34.167123</td>\n",
       "      <td>0.0</td>\n",
       "      <td>1.0</td>\n",
       "      <td>0.0</td>\n",
       "      <td>0</td>\n",
       "      <td>-1.0</td>\n",
       "      <td>1.0</td>\n",
       "      <td>1.0</td>\n",
       "      <td>...</td>\n",
       "      <td>0.0</td>\n",
       "      <td>1.0</td>\n",
       "      <td>1.0</td>\n",
       "      <td>11.45</td>\n",
       "      <td>1.671314</td>\n",
       "      <td>6.85</td>\n",
       "      <td>49.0</td>\n",
       "      <td>13.0</td>\n",
       "      <td>14.0</td>\n",
       "      <td>1000000.0</td>\n",
       "    </tr>\n",
       "  </tbody>\n",
       "</table>\n",
       "<p>5 rows × 34 columns</p>\n",
       "</div>"
      ],
      "text/plain": [
       "     Recipientgender  Stemcellsource   Donorage  Donorage35  IIIV  \\\n",
       "144              1.0             0.0  30.279452         0.0   0.0   \n",
       "8                1.0             1.0  32.641096         0.0   0.0   \n",
       "150              1.0             0.0  23.095890         0.0   0.0   \n",
       "89               0.0             0.0  28.276712         0.0   1.0   \n",
       "177              0.0             1.0  34.167123         0.0   1.0   \n",
       "\n",
       "     Gendermatch  DonorABO  RecipientABO  RecipientRh  ABOmatch  ...  Relapse  \\\n",
       "144          0.0         1           0.0          0.0       1.0  ...      1.0   \n",
       "8            0.0         2           0.0          1.0       1.0  ...      0.0   \n",
       "150          1.0         2           1.0          1.0       1.0  ...      1.0   \n",
       "89           0.0        -1           1.0          1.0       1.0  ...      0.0   \n",
       "177          0.0         0          -1.0          1.0       1.0  ...      0.0   \n",
       "\n",
       "     aGvHDIIIIV  extcGvHD  CD34kgx10d6   CD3dCD34  CD3dkgx10d8  Rbodymass  \\\n",
       "144         1.0       1.0        10.96  10.611083         1.03       14.8   \n",
       "8           1.0       1.0        23.54   3.772555         6.24       20.5   \n",
       "150         1.0       0.0         1.88   7.910679         0.24       62.0   \n",
       "89          1.0       1.0         1.31  14.642869         0.09       72.5   \n",
       "177         1.0       1.0        11.45   1.671314         6.85       49.0   \n",
       "\n",
       "     ANCrecovery  PLTrecovery  time_to_aGvHD_III_IV  \n",
       "144         15.0         19.0             1000000.0  \n",
       "8           15.0         14.0             1000000.0  \n",
       "150         23.0    1000000.0             1000000.0  \n",
       "89          21.0    1000000.0             1000000.0  \n",
       "177         13.0         14.0             1000000.0  \n",
       "\n",
       "[5 rows x 34 columns]"
      ]
     },
     "execution_count": 9,
     "metadata": {},
     "output_type": "execute_result"
    }
   ],
   "source": [
    "x_train.head(5)"
   ]
  },
  {
   "cell_type": "markdown",
   "metadata": {},
   "source": [
    "### Create Preprocessing pipelines"
   ]
  },
  {
   "cell_type": "markdown",
   "metadata": {},
   "source": [
    "* #### create categorical preprocessing pipeline"
   ]
  },
  {
   "cell_type": "code",
   "execution_count": 12,
   "metadata": {},
   "outputs": [],
   "source": [
    "# Using mode(most frequent) to fill in missing values and OHE\n",
    "cat_vals = cat_vals = Pipeline([\n",
    "    ('inputer', SimpleImputer(strategy='most_frequent')),\n",
    "    ('ohe', OneHotEncoder(sparse=False, drop='first', handle_unknown='ignore'))\n",
    "])"
   ]
  },
  {
   "cell_type": "markdown",
   "metadata": {},
   "source": [
    "* #### create numerical preprocessing pipeline"
   ]
  },
  {
   "cell_type": "code",
   "execution_count": 13,
   "metadata": {},
   "outputs": [],
   "source": [
    "# Using mean to fill in missing values and standard scaling of features\n",
    "num_vals = Pipeline([\n",
    "    ('imputer', SimpleImputer(strategy='mean')),\n",
    "    ('scale', StandardScaler())\n",
    "])"
   ]
  },
  {
   "cell_type": "markdown",
   "metadata": {},
   "source": [
    "#### create columns transformer that will preprocess the numerical and categorical features separately"
   ]
  },
  {
   "cell_type": "code",
   "execution_count": 15,
   "metadata": {},
   "outputs": [],
   "source": [
    "preprocess = ColumnTransformer(transformers=[\n",
    "    ('cat_process', cat_vals, cat_cols),\n",
    "    ('num_process', num_vals, num_cols)\n",
    "])"
   ]
  }
 ],
 "metadata": {
  "kernelspec": {
   "display_name": "Python 3",
   "language": "python",
   "name": "python3"
  },
  "language_info": {
   "codemirror_mode": {
    "name": "ipython",
    "version": 3
   },
   "file_extension": ".py",
   "mimetype": "text/x-python",
   "name": "python",
   "nbconvert_exporter": "python",
   "pygments_lexer": "ipython3",
   "version": "3.11.5"
  }
 },
 "nbformat": 4,
 "nbformat_minor": 2
}
